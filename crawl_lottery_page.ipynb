{
 "cells": [
  {
   "cell_type": "code",
   "execution_count": 128,
   "metadata": {
    "collapsed": false
   },
   "outputs": [],
   "source": [
    "from bs4 import BeautifulSoup\n",
    "import requests\n",
    "import re"
   ]
  },
  {
   "cell_type": "code",
   "execution_count": 157,
   "metadata": {
    "collapsed": true
   },
   "outputs": [],
   "source": [
    "page_url = 'https://www.nlotto.co.kr/lotto645Confirm.do?method=byWin&drwNo=708'"
   ]
  },
  {
   "cell_type": "code",
   "execution_count": 158,
   "metadata": {
    "collapsed": true
   },
   "outputs": [],
   "source": [
    "res = requests.get(page_url)"
   ]
  },
  {
   "cell_type": "code",
   "execution_count": 159,
   "metadata": {
    "collapsed": true
   },
   "outputs": [],
   "source": [
    "soup = BeautifulSoup(res.text, 'html.parser')"
   ]
  },
  {
   "cell_type": "code",
   "execution_count": 174,
   "metadata": {
    "collapsed": false
   },
   "outputs": [],
   "source": [
    "numlist = soup.find(class_='number').find_all('img')"
   ]
  },
  {
   "cell_type": "code",
   "execution_count": 175,
   "metadata": {
    "collapsed": false
   },
   "outputs": [
    {
     "data": {
      "text/plain": [
       "<img alt=\"2\" src=\"/img/common/ball_2.png\"/>"
      ]
     },
     "execution_count": 175,
     "metadata": {},
     "output_type": "execute_result"
    }
   ],
   "source": [
    "numlist[0]"
   ]
  },
  {
   "cell_type": "code",
   "execution_count": 183,
   "metadata": {
    "collapsed": true
   },
   "outputs": [],
   "source": [
    "sam = str(numlist[0])"
   ]
  },
  {
   "cell_type": "code",
   "execution_count": 186,
   "metadata": {
    "collapsed": false
   },
   "outputs": [
    {
     "data": {
      "text/plain": [
       "['2']"
      ]
     },
     "execution_count": 186,
     "metadata": {},
     "output_type": "execute_result"
    }
   ],
   "source": [
    "re.findall('(?<=img alt=\")\\d*(?=\")', sam)"
   ]
  },
  {
   "cell_type": "code",
   "execution_count": 198,
   "metadata": {
    "collapsed": false
   },
   "outputs": [],
   "source": [
    "win_numbers = []\n",
    "\n",
    "tags = soup.find(class_='number').find_all('img')\n",
    "for tag in tags:\n",
    "    number = re.findall('(?<=img alt=\")\\d*(?=\")', str(tag))\n",
    "    win_numbers.append(number[0])\n",
    "    \n",
    "tags = soup.find(class_='number_bonus').find_all('img')\n",
    "for tag in tags:\n",
    "    number = re.findall('(?<=img alt=\")\\d*(?=\")', str(tag))\n",
    "    win_numbers.append(number[0])"
   ]
  },
  {
   "cell_type": "code",
   "execution_count": 199,
   "metadata": {
    "collapsed": false
   },
   "outputs": [
    {
     "data": {
      "text/plain": [
       "['2', '10', '16', '19', '34', '45', '1']"
      ]
     },
     "execution_count": 199,
     "metadata": {},
     "output_type": "execute_result"
    }
   ],
   "source": [
    "win_numbers"
   ]
  },
  {
   "cell_type": "code",
   "execution_count": 212,
   "metadata": {
    "collapsed": false
   },
   "outputs": [],
   "source": [
    "date = re.findall('(?<=\\().*일',soup.find(class_='result_title').find('span').text)"
   ]
  },
  {
   "cell_type": "code",
   "execution_count": 214,
   "metadata": {
    "collapsed": false
   },
   "outputs": [
    {
     "data": {
      "text/plain": [
       "'2016년 06월 25일'"
      ]
     },
     "execution_count": 214,
     "metadata": {},
     "output_type": "execute_result"
    }
   ],
   "source": [
    "date[0]"
   ]
  },
  {
   "cell_type": "code",
   "execution_count": 215,
   "metadata": {
    "collapsed": true
   },
   "outputs": [],
   "source": [
    "def get_win_numbers(soup):\n",
    "    win_numbers = []\n",
    "\n",
    "    tags = soup.find(class_='number').find_all('img')\n",
    "    for tag in tags:\n",
    "        number = re.findall('(?<=img alt=\")\\d*(?=\")', str(tag))\n",
    "        win_numbers.append(number[0])\n",
    "\n",
    "    tags = soup.find(class_='number_bonus').find_all('img')\n",
    "    for tag in tags:\n",
    "        number = re.findall('(?<=img alt=\")\\d*(?=\")', str(tag))\n",
    "        win_numbers.append(number[0])\n",
    "        \n",
    "    return win_numbers"
   ]
  },
  {
   "cell_type": "code",
   "execution_count": 216,
   "metadata": {
    "collapsed": false
   },
   "outputs": [
    {
     "data": {
      "text/plain": [
       "['2', '10', '16', '19', '34', '45', '1']"
      ]
     },
     "execution_count": 216,
     "metadata": {},
     "output_type": "execute_result"
    }
   ],
   "source": [
    "get_win_numbers(soup)"
   ]
  },
  {
   "cell_type": "code",
   "execution_count": 217,
   "metadata": {
    "collapsed": true
   },
   "outputs": [],
   "source": [
    "def get_date(soup):\n",
    "    date = re.findall('(?<=\\().*일',soup.find(class_='result_title').find('span').text)\n",
    "    \n",
    "    return date[0]"
   ]
  },
  {
   "cell_type": "code",
   "execution_count": 218,
   "metadata": {
    "collapsed": false
   },
   "outputs": [
    {
     "data": {
      "text/plain": [
       "'2016년 06월 25일'"
      ]
     },
     "execution_count": 218,
     "metadata": {},
     "output_type": "execute_result"
    }
   ],
   "source": [
    "get_date(soup)"
   ]
  },
  {
   "cell_type": "code",
   "execution_count": null,
   "metadata": {
    "collapsed": false,
    "scrolled": true
   },
   "outputs": [],
   "source": [
    "with open('lotto.csv', mode='w', encoding='utf-8') as fout:\n",
    "    base_url = 'https://www.nlotto.co.kr/lotto645Confirm.do?method=byWin&drwNo='\n",
    "    for turn in range(333, 0, -1):        \n",
    "        page_url = base_url + str(turn)\n",
    "        html = requests.get(page_url).text\n",
    "        soup = BeautifulSoup(html, 'html.parser')\n",
    "\n",
    "        date = get_date(soup)\n",
    "        win_numbers = get_win_numbers(soup)\n",
    "\n",
    "        fout.write(date + '\\t')\n",
    "        for win_number in win_numbers:\n",
    "            fout.write(win_number + '\\t')\n",
    "        fout.write('\\n')\n",
    "        \n",
    "        print(turn, \"회차 크롤링 완료\")"
   ]
  },
  {
   "cell_type": "code",
   "execution_count": null,
   "metadata": {
    "collapsed": true
   },
   "outputs": [],
   "source": []
  }
 ],
 "metadata": {
  "kernelspec": {
   "display_name": "Python 3.5",
   "language": "python",
   "name": "python3.5"
  },
  "language_info": {
   "codemirror_mode": {
    "name": "ipython",
    "version": 3
   },
   "file_extension": ".py",
   "mimetype": "text/x-python",
   "name": "python",
   "nbconvert_exporter": "python",
   "pygments_lexer": "ipython3",
   "version": "3.5.0"
  }
 },
 "nbformat": 4,
 "nbformat_minor": 0
}
